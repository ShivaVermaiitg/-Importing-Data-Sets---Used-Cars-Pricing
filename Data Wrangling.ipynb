{
  "metadata": {
    "kernelspec": {
      "name": "python",
      "display_name": "Python (Pyodide)",
      "language": "python"
    },
    "language_info": {
      "codemirror_mode": {
        "name": "python",
        "version": 3
      },
      "file_extension": ".py",
      "mimetype": "text/x-python",
      "name": "python",
      "nbconvert_exporter": "python",
      "pygments_lexer": "ipython3",
      "version": "3.8"
    }
  },
  "nbformat_minor": 4,
  "nbformat": 4,
  "cells": [
    {
      "cell_type": "markdown",
      "source": "# Data Wragling",
      "metadata": {}
    },
    {
      "cell_type": "code",
      "source": "#install specific version of libraries used in lab\n#! mamba install pandas==1.3.3\n#! mamba install numpy=1.21.2\n",
      "metadata": {
        "trusted": true
      },
      "outputs": [],
      "execution_count": 89
    },
    {
      "cell_type": "code",
      "source": "import pandas as pd",
      "metadata": {
        "trusted": true
      },
      "outputs": [],
      "execution_count": 90
    },
    {
      "cell_type": "code",
      "source": "import matplotlib.pylab as plt",
      "metadata": {
        "trusted": true
      },
      "outputs": [],
      "execution_count": 91
    },
    {
      "cell_type": "code",
      "source": "import requests\n\nurl = 'https://cf-courses-data.s3.us.cloud-object-storage.appdomain.cloud/IBMDeveloperSkillsNetwork-DA0101EN-SkillsNetwork/labs/Data%20files/auto.csv'\nfile_name = \"usedcars.csv\"\n\nresponse = requests.get(url)\n\nwith open(file_name, 'wb') as file:\n    file.write(response.content)\n\nprint(f\"File downloaded and saved as {file_name}\")\n",
      "metadata": {
        "trusted": true
      },
      "outputs": [
        {
          "name": "stdout",
          "text": "File downloaded and saved as usedcars.csv\n",
          "output_type": "stream"
        }
      ],
      "execution_count": 92
    },
    {
      "cell_type": "code",
      "source": "headers = [\"symboling\",\"normalized-losses\",\"make\",\"fuel-type\",\"aspiration\", \"num-of-doors\",\"body-style\",\n         \"drive-wheels\",\"engine-location\",\"wheel-base\", \"length\",\"width\",\"height\",\"curb-weight\",\"engine-type\",\n         \"num-of-cylinders\", \"engine-size\",\"fuel-system\",\"bore\",\"stroke\",\"compression-ratio\",\"horsepower\",\n         \"peak-rpm\",\"city-mpg\",\"highway-mpg\",\"price\"]",
      "metadata": {
        "trusted": true
      },
      "outputs": [],
      "execution_count": 93
    },
    {
      "cell_type": "code",
      "source": "df = pd.read_csv(file_name, names = headers)",
      "metadata": {
        "trusted": true
      },
      "outputs": [],
      "execution_count": 94
    },
    {
      "cell_type": "code",
      "source": "# To see what the data set looks like, we'll use the head() method.\ndf.head()",
      "metadata": {
        "trusted": true
      },
      "outputs": [
        {
          "execution_count": 95,
          "output_type": "execute_result",
          "data": {
            "text/plain": "   symboling normalized-losses         make fuel-type aspiration num-of-doors  \\\n0          3                 ?  alfa-romero       gas        std          two   \n1          3                 ?  alfa-romero       gas        std          two   \n2          1                 ?  alfa-romero       gas        std          two   \n3          2               164         audi       gas        std         four   \n4          2               164         audi       gas        std         four   \n\n    body-style drive-wheels engine-location  wheel-base  ...  engine-size  \\\n0  convertible          rwd           front        88.6  ...          130   \n1  convertible          rwd           front        88.6  ...          130   \n2    hatchback          rwd           front        94.5  ...          152   \n3        sedan          fwd           front        99.8  ...          109   \n4        sedan          4wd           front        99.4  ...          136   \n\n   fuel-system  bore  stroke compression-ratio horsepower  peak-rpm city-mpg  \\\n0         mpfi  3.47    2.68               9.0        111      5000       21   \n1         mpfi  3.47    2.68               9.0        111      5000       21   \n2         mpfi  2.68    3.47               9.0        154      5000       19   \n3         mpfi  3.19    3.40              10.0        102      5500       24   \n4         mpfi  3.19    3.40               8.0        115      5500       18   \n\n  highway-mpg  price  \n0          27  13495  \n1          27  16500  \n2          26  16500  \n3          30  13950  \n4          22  17450  \n\n[5 rows x 26 columns]",
            "text/html": "<div>\n<style scoped>\n    .dataframe tbody tr th:only-of-type {\n        vertical-align: middle;\n    }\n\n    .dataframe tbody tr th {\n        vertical-align: top;\n    }\n\n    .dataframe thead th {\n        text-align: right;\n    }\n</style>\n<table border=\"1\" class=\"dataframe\">\n  <thead>\n    <tr style=\"text-align: right;\">\n      <th></th>\n      <th>symboling</th>\n      <th>normalized-losses</th>\n      <th>make</th>\n      <th>fuel-type</th>\n      <th>aspiration</th>\n      <th>num-of-doors</th>\n      <th>body-style</th>\n      <th>drive-wheels</th>\n      <th>engine-location</th>\n      <th>wheel-base</th>\n      <th>...</th>\n      <th>engine-size</th>\n      <th>fuel-system</th>\n      <th>bore</th>\n      <th>stroke</th>\n      <th>compression-ratio</th>\n      <th>horsepower</th>\n      <th>peak-rpm</th>\n      <th>city-mpg</th>\n      <th>highway-mpg</th>\n      <th>price</th>\n    </tr>\n  </thead>\n  <tbody>\n    <tr>\n      <th>0</th>\n      <td>3</td>\n      <td>?</td>\n      <td>alfa-romero</td>\n      <td>gas</td>\n      <td>std</td>\n      <td>two</td>\n      <td>convertible</td>\n      <td>rwd</td>\n      <td>front</td>\n      <td>88.6</td>\n      <td>...</td>\n      <td>130</td>\n      <td>mpfi</td>\n      <td>3.47</td>\n      <td>2.68</td>\n      <td>9.0</td>\n      <td>111</td>\n      <td>5000</td>\n      <td>21</td>\n      <td>27</td>\n      <td>13495</td>\n    </tr>\n    <tr>\n      <th>1</th>\n      <td>3</td>\n      <td>?</td>\n      <td>alfa-romero</td>\n      <td>gas</td>\n      <td>std</td>\n      <td>two</td>\n      <td>convertible</td>\n      <td>rwd</td>\n      <td>front</td>\n      <td>88.6</td>\n      <td>...</td>\n      <td>130</td>\n      <td>mpfi</td>\n      <td>3.47</td>\n      <td>2.68</td>\n      <td>9.0</td>\n      <td>111</td>\n      <td>5000</td>\n      <td>21</td>\n      <td>27</td>\n      <td>16500</td>\n    </tr>\n    <tr>\n      <th>2</th>\n      <td>1</td>\n      <td>?</td>\n      <td>alfa-romero</td>\n      <td>gas</td>\n      <td>std</td>\n      <td>two</td>\n      <td>hatchback</td>\n      <td>rwd</td>\n      <td>front</td>\n      <td>94.5</td>\n      <td>...</td>\n      <td>152</td>\n      <td>mpfi</td>\n      <td>2.68</td>\n      <td>3.47</td>\n      <td>9.0</td>\n      <td>154</td>\n      <td>5000</td>\n      <td>19</td>\n      <td>26</td>\n      <td>16500</td>\n    </tr>\n    <tr>\n      <th>3</th>\n      <td>2</td>\n      <td>164</td>\n      <td>audi</td>\n      <td>gas</td>\n      <td>std</td>\n      <td>four</td>\n      <td>sedan</td>\n      <td>fwd</td>\n      <td>front</td>\n      <td>99.8</td>\n      <td>...</td>\n      <td>109</td>\n      <td>mpfi</td>\n      <td>3.19</td>\n      <td>3.40</td>\n      <td>10.0</td>\n      <td>102</td>\n      <td>5500</td>\n      <td>24</td>\n      <td>30</td>\n      <td>13950</td>\n    </tr>\n    <tr>\n      <th>4</th>\n      <td>2</td>\n      <td>164</td>\n      <td>audi</td>\n      <td>gas</td>\n      <td>std</td>\n      <td>four</td>\n      <td>sedan</td>\n      <td>4wd</td>\n      <td>front</td>\n      <td>99.4</td>\n      <td>...</td>\n      <td>136</td>\n      <td>mpfi</td>\n      <td>3.19</td>\n      <td>3.40</td>\n      <td>8.0</td>\n      <td>115</td>\n      <td>5500</td>\n      <td>18</td>\n      <td>22</td>\n      <td>17450</td>\n    </tr>\n  </tbody>\n</table>\n<p>5 rows × 26 columns</p>\n</div>"
          },
          "metadata": {}
        }
      ],
      "execution_count": 95
    },
    {
      "cell_type": "code",
      "source": "import numpy as np ",
      "metadata": {
        "trusted": true
      },
      "outputs": [],
      "execution_count": 96
    },
    {
      "cell_type": "code",
      "source": "# replace \"?\" to NaN\ndf.replace(\"?\", np.nan, inplace = True)\ndf.head(5)",
      "metadata": {
        "trusted": true
      },
      "outputs": [
        {
          "execution_count": 97,
          "output_type": "execute_result",
          "data": {
            "text/plain": "   symboling normalized-losses         make fuel-type aspiration num-of-doors  \\\n0          3               NaN  alfa-romero       gas        std          two   \n1          3               NaN  alfa-romero       gas        std          two   \n2          1               NaN  alfa-romero       gas        std          two   \n3          2               164         audi       gas        std         four   \n4          2               164         audi       gas        std         four   \n\n    body-style drive-wheels engine-location  wheel-base  ...  engine-size  \\\n0  convertible          rwd           front        88.6  ...          130   \n1  convertible          rwd           front        88.6  ...          130   \n2    hatchback          rwd           front        94.5  ...          152   \n3        sedan          fwd           front        99.8  ...          109   \n4        sedan          4wd           front        99.4  ...          136   \n\n   fuel-system  bore  stroke compression-ratio horsepower  peak-rpm city-mpg  \\\n0         mpfi  3.47    2.68               9.0        111      5000       21   \n1         mpfi  3.47    2.68               9.0        111      5000       21   \n2         mpfi  2.68    3.47               9.0        154      5000       19   \n3         mpfi  3.19    3.40              10.0        102      5500       24   \n4         mpfi  3.19    3.40               8.0        115      5500       18   \n\n  highway-mpg  price  \n0          27  13495  \n1          27  16500  \n2          26  16500  \n3          30  13950  \n4          22  17450  \n\n[5 rows x 26 columns]",
            "text/html": "<div>\n<style scoped>\n    .dataframe tbody tr th:only-of-type {\n        vertical-align: middle;\n    }\n\n    .dataframe tbody tr th {\n        vertical-align: top;\n    }\n\n    .dataframe thead th {\n        text-align: right;\n    }\n</style>\n<table border=\"1\" class=\"dataframe\">\n  <thead>\n    <tr style=\"text-align: right;\">\n      <th></th>\n      <th>symboling</th>\n      <th>normalized-losses</th>\n      <th>make</th>\n      <th>fuel-type</th>\n      <th>aspiration</th>\n      <th>num-of-doors</th>\n      <th>body-style</th>\n      <th>drive-wheels</th>\n      <th>engine-location</th>\n      <th>wheel-base</th>\n      <th>...</th>\n      <th>engine-size</th>\n      <th>fuel-system</th>\n      <th>bore</th>\n      <th>stroke</th>\n      <th>compression-ratio</th>\n      <th>horsepower</th>\n      <th>peak-rpm</th>\n      <th>city-mpg</th>\n      <th>highway-mpg</th>\n      <th>price</th>\n    </tr>\n  </thead>\n  <tbody>\n    <tr>\n      <th>0</th>\n      <td>3</td>\n      <td>NaN</td>\n      <td>alfa-romero</td>\n      <td>gas</td>\n      <td>std</td>\n      <td>two</td>\n      <td>convertible</td>\n      <td>rwd</td>\n      <td>front</td>\n      <td>88.6</td>\n      <td>...</td>\n      <td>130</td>\n      <td>mpfi</td>\n      <td>3.47</td>\n      <td>2.68</td>\n      <td>9.0</td>\n      <td>111</td>\n      <td>5000</td>\n      <td>21</td>\n      <td>27</td>\n      <td>13495</td>\n    </tr>\n    <tr>\n      <th>1</th>\n      <td>3</td>\n      <td>NaN</td>\n      <td>alfa-romero</td>\n      <td>gas</td>\n      <td>std</td>\n      <td>two</td>\n      <td>convertible</td>\n      <td>rwd</td>\n      <td>front</td>\n      <td>88.6</td>\n      <td>...</td>\n      <td>130</td>\n      <td>mpfi</td>\n      <td>3.47</td>\n      <td>2.68</td>\n      <td>9.0</td>\n      <td>111</td>\n      <td>5000</td>\n      <td>21</td>\n      <td>27</td>\n      <td>16500</td>\n    </tr>\n    <tr>\n      <th>2</th>\n      <td>1</td>\n      <td>NaN</td>\n      <td>alfa-romero</td>\n      <td>gas</td>\n      <td>std</td>\n      <td>two</td>\n      <td>hatchback</td>\n      <td>rwd</td>\n      <td>front</td>\n      <td>94.5</td>\n      <td>...</td>\n      <td>152</td>\n      <td>mpfi</td>\n      <td>2.68</td>\n      <td>3.47</td>\n      <td>9.0</td>\n      <td>154</td>\n      <td>5000</td>\n      <td>19</td>\n      <td>26</td>\n      <td>16500</td>\n    </tr>\n    <tr>\n      <th>3</th>\n      <td>2</td>\n      <td>164</td>\n      <td>audi</td>\n      <td>gas</td>\n      <td>std</td>\n      <td>four</td>\n      <td>sedan</td>\n      <td>fwd</td>\n      <td>front</td>\n      <td>99.8</td>\n      <td>...</td>\n      <td>109</td>\n      <td>mpfi</td>\n      <td>3.19</td>\n      <td>3.40</td>\n      <td>10.0</td>\n      <td>102</td>\n      <td>5500</td>\n      <td>24</td>\n      <td>30</td>\n      <td>13950</td>\n    </tr>\n    <tr>\n      <th>4</th>\n      <td>2</td>\n      <td>164</td>\n      <td>audi</td>\n      <td>gas</td>\n      <td>std</td>\n      <td>four</td>\n      <td>sedan</td>\n      <td>4wd</td>\n      <td>front</td>\n      <td>99.4</td>\n      <td>...</td>\n      <td>136</td>\n      <td>mpfi</td>\n      <td>3.19</td>\n      <td>3.40</td>\n      <td>8.0</td>\n      <td>115</td>\n      <td>5500</td>\n      <td>18</td>\n      <td>22</td>\n      <td>17450</td>\n    </tr>\n  </tbody>\n</table>\n<p>5 rows × 26 columns</p>\n</div>"
          },
          "metadata": {}
        }
      ],
      "execution_count": 97
    },
    {
      "cell_type": "markdown",
      "source": "#### Evaluating for Missing Data",
      "metadata": {}
    },
    {
      "cell_type": "code",
      "source": "missing_data = df.isnull()\nmissing_data.head(5)",
      "metadata": {
        "trusted": true
      },
      "outputs": [
        {
          "execution_count": 98,
          "output_type": "execute_result",
          "data": {
            "text/plain": "   symboling  normalized-losses   make  fuel-type  aspiration  num-of-doors  \\\n0      False               True  False      False       False         False   \n1      False               True  False      False       False         False   \n2      False               True  False      False       False         False   \n3      False              False  False      False       False         False   \n4      False              False  False      False       False         False   \n\n   body-style  drive-wheels  engine-location  wheel-base  ...  engine-size  \\\n0       False         False            False       False  ...        False   \n1       False         False            False       False  ...        False   \n2       False         False            False       False  ...        False   \n3       False         False            False       False  ...        False   \n4       False         False            False       False  ...        False   \n\n   fuel-system   bore  stroke  compression-ratio  horsepower  peak-rpm  \\\n0        False  False   False              False       False     False   \n1        False  False   False              False       False     False   \n2        False  False   False              False       False     False   \n3        False  False   False              False       False     False   \n4        False  False   False              False       False     False   \n\n   city-mpg  highway-mpg  price  \n0     False        False  False  \n1     False        False  False  \n2     False        False  False  \n3     False        False  False  \n4     False        False  False  \n\n[5 rows x 26 columns]",
            "text/html": "<div>\n<style scoped>\n    .dataframe tbody tr th:only-of-type {\n        vertical-align: middle;\n    }\n\n    .dataframe tbody tr th {\n        vertical-align: top;\n    }\n\n    .dataframe thead th {\n        text-align: right;\n    }\n</style>\n<table border=\"1\" class=\"dataframe\">\n  <thead>\n    <tr style=\"text-align: right;\">\n      <th></th>\n      <th>symboling</th>\n      <th>normalized-losses</th>\n      <th>make</th>\n      <th>fuel-type</th>\n      <th>aspiration</th>\n      <th>num-of-doors</th>\n      <th>body-style</th>\n      <th>drive-wheels</th>\n      <th>engine-location</th>\n      <th>wheel-base</th>\n      <th>...</th>\n      <th>engine-size</th>\n      <th>fuel-system</th>\n      <th>bore</th>\n      <th>stroke</th>\n      <th>compression-ratio</th>\n      <th>horsepower</th>\n      <th>peak-rpm</th>\n      <th>city-mpg</th>\n      <th>highway-mpg</th>\n      <th>price</th>\n    </tr>\n  </thead>\n  <tbody>\n    <tr>\n      <th>0</th>\n      <td>False</td>\n      <td>True</td>\n      <td>False</td>\n      <td>False</td>\n      <td>False</td>\n      <td>False</td>\n      <td>False</td>\n      <td>False</td>\n      <td>False</td>\n      <td>False</td>\n      <td>...</td>\n      <td>False</td>\n      <td>False</td>\n      <td>False</td>\n      <td>False</td>\n      <td>False</td>\n      <td>False</td>\n      <td>False</td>\n      <td>False</td>\n      <td>False</td>\n      <td>False</td>\n    </tr>\n    <tr>\n      <th>1</th>\n      <td>False</td>\n      <td>True</td>\n      <td>False</td>\n      <td>False</td>\n      <td>False</td>\n      <td>False</td>\n      <td>False</td>\n      <td>False</td>\n      <td>False</td>\n      <td>False</td>\n      <td>...</td>\n      <td>False</td>\n      <td>False</td>\n      <td>False</td>\n      <td>False</td>\n      <td>False</td>\n      <td>False</td>\n      <td>False</td>\n      <td>False</td>\n      <td>False</td>\n      <td>False</td>\n    </tr>\n    <tr>\n      <th>2</th>\n      <td>False</td>\n      <td>True</td>\n      <td>False</td>\n      <td>False</td>\n      <td>False</td>\n      <td>False</td>\n      <td>False</td>\n      <td>False</td>\n      <td>False</td>\n      <td>False</td>\n      <td>...</td>\n      <td>False</td>\n      <td>False</td>\n      <td>False</td>\n      <td>False</td>\n      <td>False</td>\n      <td>False</td>\n      <td>False</td>\n      <td>False</td>\n      <td>False</td>\n      <td>False</td>\n    </tr>\n    <tr>\n      <th>3</th>\n      <td>False</td>\n      <td>False</td>\n      <td>False</td>\n      <td>False</td>\n      <td>False</td>\n      <td>False</td>\n      <td>False</td>\n      <td>False</td>\n      <td>False</td>\n      <td>False</td>\n      <td>...</td>\n      <td>False</td>\n      <td>False</td>\n      <td>False</td>\n      <td>False</td>\n      <td>False</td>\n      <td>False</td>\n      <td>False</td>\n      <td>False</td>\n      <td>False</td>\n      <td>False</td>\n    </tr>\n    <tr>\n      <th>4</th>\n      <td>False</td>\n      <td>False</td>\n      <td>False</td>\n      <td>False</td>\n      <td>False</td>\n      <td>False</td>\n      <td>False</td>\n      <td>False</td>\n      <td>False</td>\n      <td>False</td>\n      <td>...</td>\n      <td>False</td>\n      <td>False</td>\n      <td>False</td>\n      <td>False</td>\n      <td>False</td>\n      <td>False</td>\n      <td>False</td>\n      <td>False</td>\n      <td>False</td>\n      <td>False</td>\n    </tr>\n  </tbody>\n</table>\n<p>5 rows × 26 columns</p>\n</div>"
          },
          "metadata": {}
        }
      ],
      "execution_count": 98
    },
    {
      "cell_type": "markdown",
      "source": "###### \n\n\n\n\n\n\n\"True\" means the value is a missing value while \"False\" means the value is not a missing value.",
      "metadata": {}
    },
    {
      "cell_type": "code",
      "source": "for column in missing_data.columns.values.tolist():\n    print(column)\n    print (missing_data[column].value_counts())\n    print(\"\")    ",
      "metadata": {
        "trusted": true
      },
      "outputs": [
        {
          "name": "stdout",
          "text": "symboling\nsymboling\nFalse    205\nName: count, dtype: int64\n\nnormalized-losses\nnormalized-losses\nFalse    164\nTrue      41\nName: count, dtype: int64\n\nmake\nmake\nFalse    205\nName: count, dtype: int64\n\nfuel-type\nfuel-type\nFalse    205\nName: count, dtype: int64\n\naspiration\naspiration\nFalse    205\nName: count, dtype: int64\n\nnum-of-doors\nnum-of-doors\nFalse    203\nTrue       2\nName: count, dtype: int64\n\nbody-style\nbody-style\nFalse    205\nName: count, dtype: int64\n\ndrive-wheels\ndrive-wheels\nFalse    205\nName: count, dtype: int64\n\nengine-location\nengine-location\nFalse    205\nName: count, dtype: int64\n\nwheel-base\nwheel-base\nFalse    205\nName: count, dtype: int64\n\nlength\nlength\nFalse    205\nName: count, dtype: int64\n\nwidth\nwidth\nFalse    205\nName: count, dtype: int64\n\nheight\nheight\nFalse    205\nName: count, dtype: int64\n\ncurb-weight\ncurb-weight\nFalse    205\nName: count, dtype: int64\n\nengine-type\nengine-type\nFalse    205\nName: count, dtype: int64\n\nnum-of-cylinders\nnum-of-cylinders\nFalse    205\nName: count, dtype: int64\n\nengine-size\nengine-size\nFalse    205\nName: count, dtype: int64\n\nfuel-system\nfuel-system\nFalse    205\nName: count, dtype: int64\n\nbore\nbore\nFalse    201\nTrue       4\nName: count, dtype: int64\n\nstroke\nstroke\nFalse    201\nTrue       4\nName: count, dtype: int64\n\ncompression-ratio\ncompression-ratio\nFalse    205\nName: count, dtype: int64\n\nhorsepower\nhorsepower\nFalse    203\nTrue       2\nName: count, dtype: int64\n\npeak-rpm\npeak-rpm\nFalse    203\nTrue       2\nName: count, dtype: int64\n\ncity-mpg\ncity-mpg\nFalse    205\nName: count, dtype: int64\n\nhighway-mpg\nhighway-mpg\nFalse    205\nName: count, dtype: int64\n\nprice\nprice\nFalse    201\nTrue       4\nName: count, dtype: int64\n\n",
          "output_type": "stream"
        }
      ],
      "execution_count": 99
    },
    {
      "cell_type": "markdown",
      "source": "#### Calculate the mean value for the \"normalized-losses\" column ",
      "metadata": {}
    },
    {
      "cell_type": "code",
      "source": "avg_norm_loss = df[\"normalized-losses\"].astype(\"float\").mean(axis=0)\nprint(\"Average of normalized-losses:\", avg_norm_loss)",
      "metadata": {
        "trusted": true
      },
      "outputs": [
        {
          "name": "stdout",
          "text": "Average of normalized-losses: 122.0\n",
          "output_type": "stream"
        }
      ],
      "execution_count": 100
    },
    {
      "cell_type": "markdown",
      "source": "#### Replace \"NaN\" with mean value in \"normalized-losses\" column",
      "metadata": {}
    },
    {
      "cell_type": "code",
      "source": "df[\"normalized-losses\"].replace(np.nan, avg_norm_loss, inplace=True)",
      "metadata": {
        "trusted": true
      },
      "outputs": [
        {
          "name": "stderr",
          "text": "<ipython-input-101-1cddd06e2228>:1: FutureWarning: A value is trying to be set on a copy of a DataFrame or Series through chained assignment using an inplace method.\nThe behavior will change in pandas 3.0. This inplace method will never work because the intermediate object on which we are setting values always behaves as a copy.\n\nFor example, when doing 'df[col].method(value, inplace=True)', try using 'df.method({col: value}, inplace=True)' or df[col] = df[col].method(value) instead, to perform the operation inplace on the original object.\n\n\n  df[\"normalized-losses\"].replace(np.nan, avg_norm_loss, inplace=True)\n",
          "output_type": "stream"
        }
      ],
      "execution_count": 101
    },
    {
      "cell_type": "markdown",
      "source": "#### Calculate the mean value for the \"bore\" column",
      "metadata": {}
    },
    {
      "cell_type": "code",
      "source": "avg_bore=df['bore'].astype('float').mean(axis=0)\nprint(\"Average of bore:\", avg_bore)",
      "metadata": {
        "trusted": true
      },
      "outputs": [
        {
          "name": "stdout",
          "text": "Average of bore: 3.3297512437810943\n",
          "output_type": "stream"
        }
      ],
      "execution_count": 102
    },
    {
      "cell_type": "markdown",
      "source": "#### Replace \"NaN\" with the mean value in the \"bore\" column",
      "metadata": {}
    },
    {
      "cell_type": "code",
      "source": "df[\"bore\"].replace(np.nan, avg_bore, inplace=True)",
      "metadata": {
        "trusted": true
      },
      "outputs": [
        {
          "name": "stderr",
          "text": "<ipython-input-103-21632a20dadf>:1: FutureWarning: A value is trying to be set on a copy of a DataFrame or Series through chained assignment using an inplace method.\nThe behavior will change in pandas 3.0. This inplace method will never work because the intermediate object on which we are setting values always behaves as a copy.\n\nFor example, when doing 'df[col].method(value, inplace=True)', try using 'df.method({col: value}, inplace=True)' or df[col] = df[col].method(value) instead, to perform the operation inplace on the original object.\n\n\n  df[\"bore\"].replace(np.nan, avg_bore, inplace=True)\n",
          "output_type": "stream"
        }
      ],
      "execution_count": 103
    },
    {
      "cell_type": "markdown",
      "source": "#### Calculate the mean value for the \"Stroke\" column\n",
      "metadata": {}
    },
    {
      "cell_type": "code",
      "source": "avg_stroke=df['stroke'].astype('float').mean(axis=0)\nprint(\"Average of stoke:\", avg_stroke)",
      "metadata": {
        "trusted": true
      },
      "outputs": [
        {
          "name": "stdout",
          "text": "Average of stoke: 3.255422885572139\n",
          "output_type": "stream"
        }
      ],
      "execution_count": 104
    },
    {
      "cell_type": "markdown",
      "source": "#### Replace \"NaN\" with the mean value in the \"Stroke\" column",
      "metadata": {}
    },
    {
      "cell_type": "code",
      "source": "df[\"stroke\"].replace(np.nan, avg_stroke, inplace=True)",
      "metadata": {
        "trusted": true
      },
      "outputs": [
        {
          "name": "stderr",
          "text": "<ipython-input-105-ff2cd367befc>:1: FutureWarning: A value is trying to be set on a copy of a DataFrame or Series through chained assignment using an inplace method.\nThe behavior will change in pandas 3.0. This inplace method will never work because the intermediate object on which we are setting values always behaves as a copy.\n\nFor example, when doing 'df[col].method(value, inplace=True)', try using 'df.method({col: value}, inplace=True)' or df[col] = df[col].method(value) instead, to perform the operation inplace on the original object.\n\n\n  df[\"stroke\"].replace(np.nan, avg_stroke, inplace=True)\n",
          "output_type": "stream"
        }
      ],
      "execution_count": 105
    },
    {
      "cell_type": "markdown",
      "source": "#### Calculate the mean value for the \"horsepower\" column",
      "metadata": {}
    },
    {
      "cell_type": "code",
      "source": "avg_horsepower=df['horsepower'].astype(float).mean(axis=0)\nprint(\"Average of horsepower:\", avg_horsepower)",
      "metadata": {
        "trusted": true
      },
      "outputs": [
        {
          "name": "stdout",
          "text": "Average of horsepower: 104.25615763546799\n",
          "output_type": "stream"
        }
      ],
      "execution_count": 106
    },
    {
      "cell_type": "markdown",
      "source": "#### Replace \"NaN\" with the mean value in the \"horsepower\" column",
      "metadata": {}
    },
    {
      "cell_type": "code",
      "source": "df[\"horsepower\"].replace(np.nan, avg_stroke, inplace=True)",
      "metadata": {
        "trusted": true
      },
      "outputs": [
        {
          "name": "stderr",
          "text": "<ipython-input-107-11775cbbb7bc>:1: FutureWarning: A value is trying to be set on a copy of a DataFrame or Series through chained assignment using an inplace method.\nThe behavior will change in pandas 3.0. This inplace method will never work because the intermediate object on which we are setting values always behaves as a copy.\n\nFor example, when doing 'df[col].method(value, inplace=True)', try using 'df.method({col: value}, inplace=True)' or df[col] = df[col].method(value) instead, to perform the operation inplace on the original object.\n\n\n  df[\"horsepower\"].replace(np.nan, avg_stroke, inplace=True)\n",
          "output_type": "stream"
        }
      ],
      "execution_count": 107
    },
    {
      "cell_type": "markdown",
      "source": "#### To see which values are present in a particular column",
      "metadata": {}
    },
    {
      "cell_type": "code",
      "source": "df['num-of-doors'].value_counts()",
      "metadata": {
        "trusted": true
      },
      "outputs": [
        {
          "execution_count": 108,
          "output_type": "execute_result",
          "data": {
            "text/plain": "num-of-doors\nfour    114\ntwo      89\nName: count, dtype: int64"
          },
          "metadata": {}
        }
      ],
      "execution_count": 108
    },
    {
      "cell_type": "markdown",
      "source": "#### You can see that four doors is the most common type. We can also use the \".idxmax()\" method to calculate the most common type automatically:\n",
      "metadata": {}
    },
    {
      "cell_type": "code",
      "source": "df['num-of-doors'].value_counts().idxmax()",
      "metadata": {
        "trusted": true
      },
      "outputs": [
        {
          "execution_count": 109,
          "output_type": "execute_result",
          "data": {
            "text/plain": "'four'"
          },
          "metadata": {}
        }
      ],
      "execution_count": 109
    },
    {
      "cell_type": "markdown",
      "source": "####  Replace the missing 'num-of-doors' values by the most frequent ",
      "metadata": {}
    },
    {
      "cell_type": "code",
      "source": "df['num-of-doors'].replace(np.nan, \"fours\", inplace=True)",
      "metadata": {
        "trusted": true
      },
      "outputs": [
        {
          "name": "stderr",
          "text": "<ipython-input-110-a7d9ccd15960>:1: FutureWarning: A value is trying to be set on a copy of a DataFrame or Series through chained assignment using an inplace method.\nThe behavior will change in pandas 3.0. This inplace method will never work because the intermediate object on which we are setting values always behaves as a copy.\n\nFor example, when doing 'df[col].method(value, inplace=True)', try using 'df.method({col: value}, inplace=True)' or df[col] = df[col].method(value) instead, to perform the operation inplace on the original object.\n\n\n  df['num-of-doors'].replace(np.nan, \"fours\", inplace=True)\n",
          "output_type": "stream"
        }
      ],
      "execution_count": 110
    },
    {
      "cell_type": "code",
      "source": "# simply drop whole row with NaN in \"price\" column\ndf.dropna(subset=[\"price\"], axis=0, inplace=True)",
      "metadata": {
        "trusted": true
      },
      "outputs": [],
      "execution_count": 111
    },
    {
      "cell_type": "code",
      "source": "# reset index, because we droped two rows\ndf.reset_index(drop=True, inplace=True)",
      "metadata": {
        "trusted": true
      },
      "outputs": [],
      "execution_count": 112
    },
    {
      "cell_type": "code",
      "source": "df.head()",
      "metadata": {
        "trusted": true
      },
      "outputs": [
        {
          "execution_count": 113,
          "output_type": "execute_result",
          "data": {
            "text/plain": "   symboling normalized-losses         make fuel-type aspiration num-of-doors  \\\n0          3             122.0  alfa-romero       gas        std          two   \n1          3             122.0  alfa-romero       gas        std          two   \n2          1             122.0  alfa-romero       gas        std          two   \n3          2               164         audi       gas        std         four   \n4          2               164         audi       gas        std         four   \n\n    body-style drive-wheels engine-location  wheel-base  ...  engine-size  \\\n0  convertible          rwd           front        88.6  ...          130   \n1  convertible          rwd           front        88.6  ...          130   \n2    hatchback          rwd           front        94.5  ...          152   \n3        sedan          fwd           front        99.8  ...          109   \n4        sedan          4wd           front        99.4  ...          136   \n\n   fuel-system  bore  stroke compression-ratio horsepower  peak-rpm city-mpg  \\\n0         mpfi  3.47    2.68               9.0        111      5000       21   \n1         mpfi  3.47    2.68               9.0        111      5000       21   \n2         mpfi  2.68    3.47               9.0        154      5000       19   \n3         mpfi  3.19    3.40              10.0        102      5500       24   \n4         mpfi  3.19    3.40               8.0        115      5500       18   \n\n  highway-mpg  price  \n0          27  13495  \n1          27  16500  \n2          26  16500  \n3          30  13950  \n4          22  17450  \n\n[5 rows x 26 columns]",
            "text/html": "<div>\n<style scoped>\n    .dataframe tbody tr th:only-of-type {\n        vertical-align: middle;\n    }\n\n    .dataframe tbody tr th {\n        vertical-align: top;\n    }\n\n    .dataframe thead th {\n        text-align: right;\n    }\n</style>\n<table border=\"1\" class=\"dataframe\">\n  <thead>\n    <tr style=\"text-align: right;\">\n      <th></th>\n      <th>symboling</th>\n      <th>normalized-losses</th>\n      <th>make</th>\n      <th>fuel-type</th>\n      <th>aspiration</th>\n      <th>num-of-doors</th>\n      <th>body-style</th>\n      <th>drive-wheels</th>\n      <th>engine-location</th>\n      <th>wheel-base</th>\n      <th>...</th>\n      <th>engine-size</th>\n      <th>fuel-system</th>\n      <th>bore</th>\n      <th>stroke</th>\n      <th>compression-ratio</th>\n      <th>horsepower</th>\n      <th>peak-rpm</th>\n      <th>city-mpg</th>\n      <th>highway-mpg</th>\n      <th>price</th>\n    </tr>\n  </thead>\n  <tbody>\n    <tr>\n      <th>0</th>\n      <td>3</td>\n      <td>122.0</td>\n      <td>alfa-romero</td>\n      <td>gas</td>\n      <td>std</td>\n      <td>two</td>\n      <td>convertible</td>\n      <td>rwd</td>\n      <td>front</td>\n      <td>88.6</td>\n      <td>...</td>\n      <td>130</td>\n      <td>mpfi</td>\n      <td>3.47</td>\n      <td>2.68</td>\n      <td>9.0</td>\n      <td>111</td>\n      <td>5000</td>\n      <td>21</td>\n      <td>27</td>\n      <td>13495</td>\n    </tr>\n    <tr>\n      <th>1</th>\n      <td>3</td>\n      <td>122.0</td>\n      <td>alfa-romero</td>\n      <td>gas</td>\n      <td>std</td>\n      <td>two</td>\n      <td>convertible</td>\n      <td>rwd</td>\n      <td>front</td>\n      <td>88.6</td>\n      <td>...</td>\n      <td>130</td>\n      <td>mpfi</td>\n      <td>3.47</td>\n      <td>2.68</td>\n      <td>9.0</td>\n      <td>111</td>\n      <td>5000</td>\n      <td>21</td>\n      <td>27</td>\n      <td>16500</td>\n    </tr>\n    <tr>\n      <th>2</th>\n      <td>1</td>\n      <td>122.0</td>\n      <td>alfa-romero</td>\n      <td>gas</td>\n      <td>std</td>\n      <td>two</td>\n      <td>hatchback</td>\n      <td>rwd</td>\n      <td>front</td>\n      <td>94.5</td>\n      <td>...</td>\n      <td>152</td>\n      <td>mpfi</td>\n      <td>2.68</td>\n      <td>3.47</td>\n      <td>9.0</td>\n      <td>154</td>\n      <td>5000</td>\n      <td>19</td>\n      <td>26</td>\n      <td>16500</td>\n    </tr>\n    <tr>\n      <th>3</th>\n      <td>2</td>\n      <td>164</td>\n      <td>audi</td>\n      <td>gas</td>\n      <td>std</td>\n      <td>four</td>\n      <td>sedan</td>\n      <td>fwd</td>\n      <td>front</td>\n      <td>99.8</td>\n      <td>...</td>\n      <td>109</td>\n      <td>mpfi</td>\n      <td>3.19</td>\n      <td>3.40</td>\n      <td>10.0</td>\n      <td>102</td>\n      <td>5500</td>\n      <td>24</td>\n      <td>30</td>\n      <td>13950</td>\n    </tr>\n    <tr>\n      <th>4</th>\n      <td>2</td>\n      <td>164</td>\n      <td>audi</td>\n      <td>gas</td>\n      <td>std</td>\n      <td>four</td>\n      <td>sedan</td>\n      <td>4wd</td>\n      <td>front</td>\n      <td>99.4</td>\n      <td>...</td>\n      <td>136</td>\n      <td>mpfi</td>\n      <td>3.19</td>\n      <td>3.40</td>\n      <td>8.0</td>\n      <td>115</td>\n      <td>5500</td>\n      <td>18</td>\n      <td>22</td>\n      <td>17450</td>\n    </tr>\n  </tbody>\n</table>\n<p>5 rows × 26 columns</p>\n</div>"
          },
          "metadata": {}
        }
      ],
      "execution_count": 113
    },
    {
      "cell_type": "markdown",
      "source": "## Correct Data Format",
      "metadata": {}
    },
    {
      "cell_type": "code",
      "source": "# Check the data type\ndf.dtypes",
      "metadata": {
        "trusted": true
      },
      "outputs": [
        {
          "execution_count": 114,
          "output_type": "execute_result",
          "data": {
            "text/plain": "symboling              int64\nnormalized-losses     object\nmake                  object\nfuel-type             object\naspiration            object\nnum-of-doors          object\nbody-style            object\ndrive-wheels          object\nengine-location       object\nwheel-base           float64\nlength               float64\nwidth                float64\nheight               float64\ncurb-weight            int64\nengine-type           object\nnum-of-cylinders      object\nengine-size            int64\nfuel-system           object\nbore                  object\nstroke                object\ncompression-ratio    float64\nhorsepower            object\npeak-rpm              object\ncity-mpg               int64\nhighway-mpg            int64\nprice                 object\ndtype: object"
          },
          "metadata": {}
        }
      ],
      "execution_count": 114
    },
    {
      "cell_type": "code",
      "source": "# Change the data type format\ndf[[\"bore\", \"stroke\"]] =  df[[\"bore\", \"stroke\"]].astype(\"float\")\ndf[[\"normalized-losses\"]] = df[[\"normalized-losses\"]].astype(\"int\")\ndf[[\"price\"]] = df[[\"price\"]].astype(\"float\")\ndf[[\"peak-rpm\"]] = df[[\"peak-rpm\"]].astype(\"float\")",
      "metadata": {
        "trusted": true
      },
      "outputs": [],
      "execution_count": 115
    },
    {
      "cell_type": "code",
      "source": "df.dtypes",
      "metadata": {
        "trusted": true
      },
      "outputs": [
        {
          "execution_count": 116,
          "output_type": "execute_result",
          "data": {
            "text/plain": "symboling              int64\nnormalized-losses      int32\nmake                  object\nfuel-type             object\naspiration            object\nnum-of-doors          object\nbody-style            object\ndrive-wheels          object\nengine-location       object\nwheel-base           float64\nlength               float64\nwidth                float64\nheight               float64\ncurb-weight            int64\nengine-type           object\nnum-of-cylinders      object\nengine-size            int64\nfuel-system           object\nbore                 float64\nstroke               float64\ncompression-ratio    float64\nhorsepower            object\npeak-rpm             float64\ncity-mpg               int64\nhighway-mpg            int64\nprice                float64\ndtype: object"
          },
          "metadata": {}
        }
      ],
      "execution_count": 116
    },
    {
      "cell_type": "markdown",
      "source": "## Data Standardization",
      "metadata": {}
    },
    {
      "cell_type": "markdown",
      "source": "#### Standardization is the process of transforming data into a common format, allowing the researcher to make the meaningful comparison.",
      "metadata": {}
    },
    {
      "cell_type": "markdown",
      "source": "###### e.g. Example\n\nTransform mpg to L/100km:\n\nIn your data set, the fuel consumption columns \"city-mpg\" and \"highway-mpg\" are represented by mpg (miles per gallon) unit. Assume you are developing an application in a country that accepts the fuel consumption with L/100km standard.\n\nYou will need to apply **data transformation** to transform mpg into L/100km.",
      "metadata": {}
    },
    {
      "cell_type": "code",
      "source": "# Convert mpg to L/100km by mathematical operation (235 divided by mpg)\ndf['city-L/100km'] = 235/df[\"city-mpg\"]",
      "metadata": {
        "trusted": true
      },
      "outputs": [],
      "execution_count": 117
    },
    {
      "cell_type": "code",
      "source": "# check the transformed data\ndf.head()\n",
      "metadata": {
        "trusted": true
      },
      "outputs": [
        {
          "execution_count": 118,
          "output_type": "execute_result",
          "data": {
            "text/plain": "   symboling  normalized-losses         make fuel-type aspiration  \\\n0          3                122  alfa-romero       gas        std   \n1          3                122  alfa-romero       gas        std   \n2          1                122  alfa-romero       gas        std   \n3          2                164         audi       gas        std   \n4          2                164         audi       gas        std   \n\n  num-of-doors   body-style drive-wheels engine-location  wheel-base  ...  \\\n0          two  convertible          rwd           front        88.6  ...   \n1          two  convertible          rwd           front        88.6  ...   \n2          two    hatchback          rwd           front        94.5  ...   \n3         four        sedan          fwd           front        99.8  ...   \n4         four        sedan          4wd           front        99.4  ...   \n\n   fuel-system  bore  stroke  compression-ratio horsepower peak-rpm  city-mpg  \\\n0         mpfi  3.47    2.68                9.0        111   5000.0        21   \n1         mpfi  3.47    2.68                9.0        111   5000.0        21   \n2         mpfi  2.68    3.47                9.0        154   5000.0        19   \n3         mpfi  3.19    3.40               10.0        102   5500.0        24   \n4         mpfi  3.19    3.40                8.0        115   5500.0        18   \n\n  highway-mpg    price  city-L/100km  \n0          27  13495.0     11.190476  \n1          27  16500.0     11.190476  \n2          26  16500.0     12.368421  \n3          30  13950.0      9.791667  \n4          22  17450.0     13.055556  \n\n[5 rows x 27 columns]",
            "text/html": "<div>\n<style scoped>\n    .dataframe tbody tr th:only-of-type {\n        vertical-align: middle;\n    }\n\n    .dataframe tbody tr th {\n        vertical-align: top;\n    }\n\n    .dataframe thead th {\n        text-align: right;\n    }\n</style>\n<table border=\"1\" class=\"dataframe\">\n  <thead>\n    <tr style=\"text-align: right;\">\n      <th></th>\n      <th>symboling</th>\n      <th>normalized-losses</th>\n      <th>make</th>\n      <th>fuel-type</th>\n      <th>aspiration</th>\n      <th>num-of-doors</th>\n      <th>body-style</th>\n      <th>drive-wheels</th>\n      <th>engine-location</th>\n      <th>wheel-base</th>\n      <th>...</th>\n      <th>fuel-system</th>\n      <th>bore</th>\n      <th>stroke</th>\n      <th>compression-ratio</th>\n      <th>horsepower</th>\n      <th>peak-rpm</th>\n      <th>city-mpg</th>\n      <th>highway-mpg</th>\n      <th>price</th>\n      <th>city-L/100km</th>\n    </tr>\n  </thead>\n  <tbody>\n    <tr>\n      <th>0</th>\n      <td>3</td>\n      <td>122</td>\n      <td>alfa-romero</td>\n      <td>gas</td>\n      <td>std</td>\n      <td>two</td>\n      <td>convertible</td>\n      <td>rwd</td>\n      <td>front</td>\n      <td>88.6</td>\n      <td>...</td>\n      <td>mpfi</td>\n      <td>3.47</td>\n      <td>2.68</td>\n      <td>9.0</td>\n      <td>111</td>\n      <td>5000.0</td>\n      <td>21</td>\n      <td>27</td>\n      <td>13495.0</td>\n      <td>11.190476</td>\n    </tr>\n    <tr>\n      <th>1</th>\n      <td>3</td>\n      <td>122</td>\n      <td>alfa-romero</td>\n      <td>gas</td>\n      <td>std</td>\n      <td>two</td>\n      <td>convertible</td>\n      <td>rwd</td>\n      <td>front</td>\n      <td>88.6</td>\n      <td>...</td>\n      <td>mpfi</td>\n      <td>3.47</td>\n      <td>2.68</td>\n      <td>9.0</td>\n      <td>111</td>\n      <td>5000.0</td>\n      <td>21</td>\n      <td>27</td>\n      <td>16500.0</td>\n      <td>11.190476</td>\n    </tr>\n    <tr>\n      <th>2</th>\n      <td>1</td>\n      <td>122</td>\n      <td>alfa-romero</td>\n      <td>gas</td>\n      <td>std</td>\n      <td>two</td>\n      <td>hatchback</td>\n      <td>rwd</td>\n      <td>front</td>\n      <td>94.5</td>\n      <td>...</td>\n      <td>mpfi</td>\n      <td>2.68</td>\n      <td>3.47</td>\n      <td>9.0</td>\n      <td>154</td>\n      <td>5000.0</td>\n      <td>19</td>\n      <td>26</td>\n      <td>16500.0</td>\n      <td>12.368421</td>\n    </tr>\n    <tr>\n      <th>3</th>\n      <td>2</td>\n      <td>164</td>\n      <td>audi</td>\n      <td>gas</td>\n      <td>std</td>\n      <td>four</td>\n      <td>sedan</td>\n      <td>fwd</td>\n      <td>front</td>\n      <td>99.8</td>\n      <td>...</td>\n      <td>mpfi</td>\n      <td>3.19</td>\n      <td>3.40</td>\n      <td>10.0</td>\n      <td>102</td>\n      <td>5500.0</td>\n      <td>24</td>\n      <td>30</td>\n      <td>13950.0</td>\n      <td>9.791667</td>\n    </tr>\n    <tr>\n      <th>4</th>\n      <td>2</td>\n      <td>164</td>\n      <td>audi</td>\n      <td>gas</td>\n      <td>std</td>\n      <td>four</td>\n      <td>sedan</td>\n      <td>4wd</td>\n      <td>front</td>\n      <td>99.4</td>\n      <td>...</td>\n      <td>mpfi</td>\n      <td>3.19</td>\n      <td>3.40</td>\n      <td>8.0</td>\n      <td>115</td>\n      <td>5500.0</td>\n      <td>18</td>\n      <td>22</td>\n      <td>17450.0</td>\n      <td>13.055556</td>\n    </tr>\n  </tbody>\n</table>\n<p>5 rows × 27 columns</p>\n</div>"
          },
          "metadata": {}
        }
      ],
      "execution_count": 118
    },
    {
      "cell_type": "code",
      "source": "# transform mpg to L/100km by mathematical operation (235 divided by mpg)\ndf[\"highway-mpg\"] = 235/df[\"highway-mpg\"]\n\n# rename column name from \"highway-mpg\" to \"highway-L/100km\"\ndf.rename(columns={'\"highway-mpg\"':'highway-L/100km'}, inplace=True)\n\n# check your transformed data \ndf.head()",
      "metadata": {
        "trusted": true
      },
      "outputs": [
        {
          "execution_count": 119,
          "output_type": "execute_result",
          "data": {
            "text/plain": "   symboling  normalized-losses         make fuel-type aspiration  \\\n0          3                122  alfa-romero       gas        std   \n1          3                122  alfa-romero       gas        std   \n2          1                122  alfa-romero       gas        std   \n3          2                164         audi       gas        std   \n4          2                164         audi       gas        std   \n\n  num-of-doors   body-style drive-wheels engine-location  wheel-base  ...  \\\n0          two  convertible          rwd           front        88.6  ...   \n1          two  convertible          rwd           front        88.6  ...   \n2          two    hatchback          rwd           front        94.5  ...   \n3         four        sedan          fwd           front        99.8  ...   \n4         four        sedan          4wd           front        99.4  ...   \n\n   fuel-system  bore  stroke  compression-ratio horsepower peak-rpm  city-mpg  \\\n0         mpfi  3.47    2.68                9.0        111   5000.0        21   \n1         mpfi  3.47    2.68                9.0        111   5000.0        21   \n2         mpfi  2.68    3.47                9.0        154   5000.0        19   \n3         mpfi  3.19    3.40               10.0        102   5500.0        24   \n4         mpfi  3.19    3.40                8.0        115   5500.0        18   \n\n  highway-mpg    price  city-L/100km  \n0    8.703704  13495.0     11.190476  \n1    8.703704  16500.0     11.190476  \n2    9.038462  16500.0     12.368421  \n3    7.833333  13950.0      9.791667  \n4   10.681818  17450.0     13.055556  \n\n[5 rows x 27 columns]",
            "text/html": "<div>\n<style scoped>\n    .dataframe tbody tr th:only-of-type {\n        vertical-align: middle;\n    }\n\n    .dataframe tbody tr th {\n        vertical-align: top;\n    }\n\n    .dataframe thead th {\n        text-align: right;\n    }\n</style>\n<table border=\"1\" class=\"dataframe\">\n  <thead>\n    <tr style=\"text-align: right;\">\n      <th></th>\n      <th>symboling</th>\n      <th>normalized-losses</th>\n      <th>make</th>\n      <th>fuel-type</th>\n      <th>aspiration</th>\n      <th>num-of-doors</th>\n      <th>body-style</th>\n      <th>drive-wheels</th>\n      <th>engine-location</th>\n      <th>wheel-base</th>\n      <th>...</th>\n      <th>fuel-system</th>\n      <th>bore</th>\n      <th>stroke</th>\n      <th>compression-ratio</th>\n      <th>horsepower</th>\n      <th>peak-rpm</th>\n      <th>city-mpg</th>\n      <th>highway-mpg</th>\n      <th>price</th>\n      <th>city-L/100km</th>\n    </tr>\n  </thead>\n  <tbody>\n    <tr>\n      <th>0</th>\n      <td>3</td>\n      <td>122</td>\n      <td>alfa-romero</td>\n      <td>gas</td>\n      <td>std</td>\n      <td>two</td>\n      <td>convertible</td>\n      <td>rwd</td>\n      <td>front</td>\n      <td>88.6</td>\n      <td>...</td>\n      <td>mpfi</td>\n      <td>3.47</td>\n      <td>2.68</td>\n      <td>9.0</td>\n      <td>111</td>\n      <td>5000.0</td>\n      <td>21</td>\n      <td>8.703704</td>\n      <td>13495.0</td>\n      <td>11.190476</td>\n    </tr>\n    <tr>\n      <th>1</th>\n      <td>3</td>\n      <td>122</td>\n      <td>alfa-romero</td>\n      <td>gas</td>\n      <td>std</td>\n      <td>two</td>\n      <td>convertible</td>\n      <td>rwd</td>\n      <td>front</td>\n      <td>88.6</td>\n      <td>...</td>\n      <td>mpfi</td>\n      <td>3.47</td>\n      <td>2.68</td>\n      <td>9.0</td>\n      <td>111</td>\n      <td>5000.0</td>\n      <td>21</td>\n      <td>8.703704</td>\n      <td>16500.0</td>\n      <td>11.190476</td>\n    </tr>\n    <tr>\n      <th>2</th>\n      <td>1</td>\n      <td>122</td>\n      <td>alfa-romero</td>\n      <td>gas</td>\n      <td>std</td>\n      <td>two</td>\n      <td>hatchback</td>\n      <td>rwd</td>\n      <td>front</td>\n      <td>94.5</td>\n      <td>...</td>\n      <td>mpfi</td>\n      <td>2.68</td>\n      <td>3.47</td>\n      <td>9.0</td>\n      <td>154</td>\n      <td>5000.0</td>\n      <td>19</td>\n      <td>9.038462</td>\n      <td>16500.0</td>\n      <td>12.368421</td>\n    </tr>\n    <tr>\n      <th>3</th>\n      <td>2</td>\n      <td>164</td>\n      <td>audi</td>\n      <td>gas</td>\n      <td>std</td>\n      <td>four</td>\n      <td>sedan</td>\n      <td>fwd</td>\n      <td>front</td>\n      <td>99.8</td>\n      <td>...</td>\n      <td>mpfi</td>\n      <td>3.19</td>\n      <td>3.40</td>\n      <td>10.0</td>\n      <td>102</td>\n      <td>5500.0</td>\n      <td>24</td>\n      <td>7.833333</td>\n      <td>13950.0</td>\n      <td>9.791667</td>\n    </tr>\n    <tr>\n      <th>4</th>\n      <td>2</td>\n      <td>164</td>\n      <td>audi</td>\n      <td>gas</td>\n      <td>std</td>\n      <td>four</td>\n      <td>sedan</td>\n      <td>4wd</td>\n      <td>front</td>\n      <td>99.4</td>\n      <td>...</td>\n      <td>mpfi</td>\n      <td>3.19</td>\n      <td>3.40</td>\n      <td>8.0</td>\n      <td>115</td>\n      <td>5500.0</td>\n      <td>18</td>\n      <td>10.681818</td>\n      <td>17450.0</td>\n      <td>13.055556</td>\n    </tr>\n  </tbody>\n</table>\n<p>5 rows × 27 columns</p>\n</div>"
          },
          "metadata": {}
        }
      ],
      "execution_count": 119
    },
    {
      "cell_type": "markdown",
      "source": "## Data Normalization",
      "metadata": {}
    },
    {
      "cell_type": "markdown",
      "source": "###### Normalization is the process of transforming values of several variables into a similar range. Typical normalizations include\n\n1.scaling the variable so the variable average is 0\n2.scaling the variable so the variance is 1\n3.scaling the variable so the variable values range from 0 to 1",
      "metadata": {}
    },
    {
      "cell_type": "code",
      "source": "# replace (original value) by (original value)/(maximum value)\ndf['length'] = df['length']/df['length'].max()\ndf['width'] = df['width']/df['width'].max()",
      "metadata": {
        "trusted": true
      },
      "outputs": [],
      "execution_count": 120
    },
    {
      "cell_type": "code",
      "source": "# Normaize the value of height column\ndf['height'] = df['height']/df['height'].max()",
      "metadata": {
        "trusted": true
      },
      "outputs": [],
      "execution_count": 121
    },
    {
      "cell_type": "code",
      "source": "# show the scaled columns\ndf[[\"length\",\"width\",\"height\"]].head()",
      "metadata": {
        "trusted": true
      },
      "outputs": [
        {
          "execution_count": 122,
          "output_type": "execute_result",
          "data": {
            "text/plain": "     length     width    height\n0  0.811148  0.890278  0.816054\n1  0.811148  0.890278  0.816054\n2  0.822681  0.909722  0.876254\n3  0.848630  0.919444  0.908027\n4  0.848630  0.922222  0.908027",
            "text/html": "<div>\n<style scoped>\n    .dataframe tbody tr th:only-of-type {\n        vertical-align: middle;\n    }\n\n    .dataframe tbody tr th {\n        vertical-align: top;\n    }\n\n    .dataframe thead th {\n        text-align: right;\n    }\n</style>\n<table border=\"1\" class=\"dataframe\">\n  <thead>\n    <tr style=\"text-align: right;\">\n      <th></th>\n      <th>length</th>\n      <th>width</th>\n      <th>height</th>\n    </tr>\n  </thead>\n  <tbody>\n    <tr>\n      <th>0</th>\n      <td>0.811148</td>\n      <td>0.890278</td>\n      <td>0.816054</td>\n    </tr>\n    <tr>\n      <th>1</th>\n      <td>0.811148</td>\n      <td>0.890278</td>\n      <td>0.816054</td>\n    </tr>\n    <tr>\n      <th>2</th>\n      <td>0.822681</td>\n      <td>0.909722</td>\n      <td>0.876254</td>\n    </tr>\n    <tr>\n      <th>3</th>\n      <td>0.848630</td>\n      <td>0.919444</td>\n      <td>0.908027</td>\n    </tr>\n    <tr>\n      <th>4</th>\n      <td>0.848630</td>\n      <td>0.922222</td>\n      <td>0.908027</td>\n    </tr>\n  </tbody>\n</table>\n</div>"
          },
          "metadata": {}
        }
      ],
      "execution_count": 122
    },
    {
      "cell_type": "markdown",
      "source": "## Binning",
      "metadata": {}
    },
    {
      "cell_type": "markdown",
      "source": "#### Binning is a process of transforming continuous numerical variables into discrete categorical 'bins' for grouped analysis.",
      "metadata": {}
    },
    {
      "cell_type": "markdown",
      "source": "#### Convert data to correct format:",
      "metadata": {}
    },
    {
      "cell_type": "code",
      "source": "df[\"horsepower\"]=df[\"horsepower\"].astype(int, copy=True)",
      "metadata": {
        "trusted": true
      },
      "outputs": [],
      "execution_count": 123
    },
    {
      "cell_type": "code",
      "source": "%matplotlib inline\nimport matplotlib as plt\nfrom matplotlib import pyplot\nplt.pyplot.hist(df[\"horsepower\"])\n\n# set x/y labels and plot title\nplt.pyplot.xlabel(\"horsepower\")\nplt.pyplot.ylabel(\"count\")\nplt.pyplot.title(\"horsepower bins\")",
      "metadata": {
        "trusted": true
      },
      "outputs": [
        {
          "execution_count": 124,
          "output_type": "execute_result",
          "data": {
            "text/plain": "Text(0.5, 1.0, 'horsepower bins')"
          },
          "metadata": {}
        },
        {
          "output_type": "display_data",
          "data": {
            "text/plain": "<Figure size 640x480 with 1 Axes>",
            "image/png": "[encoded data removed]"
          },
          "metadata": {}
        }
      ],
      "execution_count": 124
    },
    {
      "cell_type": "code",
      "source": "bins = np.linspace(min(df[\"horsepower\"]), max(df[\"horsepower\"]), 4)\nbins",
      "metadata": {
        "trusted": true
      },
      "outputs": [
        {
          "execution_count": 125,
          "output_type": "execute_result",
          "data": {
            "text/plain": "array([  3.        ,  89.33333333, 175.66666667, 262.        ])"
          },
          "metadata": {}
        }
      ],
      "execution_count": 125
    },
    {
      "cell_type": "code",
      "source": "# Set group name:\ngroup_names = ['Low', 'Medium', 'High']",
      "metadata": {
        "trusted": true
      },
      "outputs": [],
      "execution_count": 126
    },
    {
      "cell_type": "code",
      "source": "#### Apply the function \"cut\" to determine what each value of df['horsepower'] belongs to.\ndf['horsepower-binned'] = pd.cut(df['horsepower'], bins, labels=group_names, include_lowest=True )\ndf[['horsepower','horsepower-binned']].head(20)",
      "metadata": {
        "trusted": true
      },
      "outputs": [
        {
          "execution_count": 127,
          "output_type": "execute_result",
          "data": {
            "text/plain": "    horsepower horsepower-binned\n0          111            Medium\n1          111            Medium\n2          154            Medium\n3          102            Medium\n4          115            Medium\n5          110            Medium\n6          110            Medium\n7          110            Medium\n8          140            Medium\n9          101            Medium\n10         101            Medium\n11         121            Medium\n12         121            Medium\n13         121            Medium\n14         182              High\n15         182              High\n16         182              High\n17          48               Low\n18          70               Low\n19          70               Low",
            "text/html": "<div>\n<style scoped>\n    .dataframe tbody tr th:only-of-type {\n        vertical-align: middle;\n    }\n\n    .dataframe tbody tr th {\n        vertical-align: top;\n    }\n\n    .dataframe thead th {\n        text-align: right;\n    }\n</style>\n<table border=\"1\" class=\"dataframe\">\n  <thead>\n    <tr style=\"text-align: right;\">\n      <th></th>\n      <th>horsepower</th>\n      <th>horsepower-binned</th>\n    </tr>\n  </thead>\n  <tbody>\n    <tr>\n      <th>0</th>\n      <td>111</td>\n      <td>Medium</td>\n    </tr>\n    <tr>\n      <th>1</th>\n      <td>111</td>\n      <td>Medium</td>\n    </tr>\n    <tr>\n      <th>2</th>\n      <td>154</td>\n      <td>Medium</td>\n    </tr>\n    <tr>\n      <th>3</th>\n      <td>102</td>\n      <td>Medium</td>\n    </tr>\n    <tr>\n      <th>4</th>\n      <td>115</td>\n      <td>Medium</td>\n    </tr>\n    <tr>\n      <th>5</th>\n      <td>110</td>\n      <td>Medium</td>\n    </tr>\n    <tr>\n      <th>6</th>\n      <td>110</td>\n      <td>Medium</td>\n    </tr>\n    <tr>\n      <th>7</th>\n      <td>110</td>\n      <td>Medium</td>\n    </tr>\n    <tr>\n      <th>8</th>\n      <td>140</td>\n      <td>Medium</td>\n    </tr>\n    <tr>\n      <th>9</th>\n      <td>101</td>\n      <td>Medium</td>\n    </tr>\n    <tr>\n      <th>10</th>\n      <td>101</td>\n      <td>Medium</td>\n    </tr>\n    <tr>\n      <th>11</th>\n      <td>121</td>\n      <td>Medium</td>\n    </tr>\n    <tr>\n      <th>12</th>\n      <td>121</td>\n      <td>Medium</td>\n    </tr>\n    <tr>\n      <th>13</th>\n      <td>121</td>\n      <td>Medium</td>\n    </tr>\n    <tr>\n      <th>14</th>\n      <td>182</td>\n      <td>High</td>\n    </tr>\n    <tr>\n      <th>15</th>\n      <td>182</td>\n      <td>High</td>\n    </tr>\n    <tr>\n      <th>16</th>\n      <td>182</td>\n      <td>High</td>\n    </tr>\n    <tr>\n      <th>17</th>\n      <td>48</td>\n      <td>Low</td>\n    </tr>\n    <tr>\n      <th>18</th>\n      <td>70</td>\n      <td>Low</td>\n    </tr>\n    <tr>\n      <th>19</th>\n      <td>70</td>\n      <td>Low</td>\n    </tr>\n  </tbody>\n</table>\n</div>"
          },
          "metadata": {}
        }
      ],
      "execution_count": 127
    },
    {
      "cell_type": "code",
      "source": "# See the value of each bins\ndf[\"horsepower-binned\"].value_counts()",
      "metadata": {
        "trusted": true
      },
      "outputs": [
        {
          "execution_count": 128,
          "output_type": "execute_result",
          "data": {
            "text/plain": "horsepower-binned\nMedium    101\nLow        88\nHigh       12\nName: count, dtype: int64"
          },
          "metadata": {}
        }
      ],
      "execution_count": 128
    },
    {
      "cell_type": "markdown",
      "source": "## Bins Visualization",
      "metadata": {}
    },
    {
      "cell_type": "code",
      "source": "# Plot the distribution of each bin:\n%matplotlib inline\nimport matplotlib as plt\nfrom matplotlib import pyplot\npyplot.bar(group_names, df[\"horsepower-binned\"].value_counts())\n\n# set x/y labels and plot title\nplt.pyplot.xlabel(\"horsepower\")\nplt.pyplot.ylabel(\"count\")\nplt.pyplot.title(\"horsepower bins\")",
      "metadata": {
        "trusted": true
      },
      "outputs": [
        {
          "execution_count": 129,
          "output_type": "execute_result",
          "data": {
            "text/plain": "Text(0.5, 1.0, 'horsepower bins')"
          },
          "metadata": {}
        },
        {
          "output_type": "display_data",
          "data": {
            "text/plain": "<Figure size 640x480 with 1 Axes>",
            "image/png": "[encoded data removed]"
          },
          "metadata": {}
        }
      ],
      "execution_count": 129
    },
    {
      "cell_type": "markdown",
      "source": "### Indicator Variable",
      "metadata": {}
    },
    {
      "cell_type": "markdown",
      "source": "##### An indicator variable (or dummy variable) is a numerical variable used to label categories. They are called 'dummies' because the numbers themselves don't have inherent meaning.                                                                                                          Use the Panda method 'get_dummies' to assign numerical values to different categories of fuel type.",
      "metadata": {}
    },
    {
      "cell_type": "code",
      "source": "df.columns",
      "metadata": {
        "trusted": true
      },
      "outputs": [
        {
          "execution_count": 130,
          "output_type": "execute_result",
          "data": {
            "text/plain": "Index(['symboling', 'normalized-losses', 'make', 'fuel-type', 'aspiration',\n       'num-of-doors', 'body-style', 'drive-wheels', 'engine-location',\n       'wheel-base', 'length', 'width', 'height', 'curb-weight', 'engine-type',\n       'num-of-cylinders', 'engine-size', 'fuel-system', 'bore', 'stroke',\n       'compression-ratio', 'horsepower', 'peak-rpm', 'city-mpg',\n       'highway-mpg', 'price', 'city-L/100km', 'horsepower-binned'],\n      dtype='object')"
          },
          "metadata": {}
        }
      ],
      "execution_count": 130
    },
    {
      "cell_type": "code",
      "source": "dummy_variable_1 = pd.get_dummies(df[\"fuel-type\"])\ndummy_variable_1.head()",
      "metadata": {
        "trusted": true
      },
      "outputs": [
        {
          "execution_count": 131,
          "output_type": "execute_result",
          "data": {
            "text/plain": "   diesel   gas\n0   False  True\n1   False  True\n2   False  True\n3   False  True\n4   False  True",
            "text/html": "<div>\n<style scoped>\n    .dataframe tbody tr th:only-of-type {\n        vertical-align: middle;\n    }\n\n    .dataframe tbody tr th {\n        vertical-align: top;\n    }\n\n    .dataframe thead th {\n        text-align: right;\n    }\n</style>\n<table border=\"1\" class=\"dataframe\">\n  <thead>\n    <tr style=\"text-align: right;\">\n      <th></th>\n      <th>diesel</th>\n      <th>gas</th>\n    </tr>\n  </thead>\n  <tbody>\n    <tr>\n      <th>0</th>\n      <td>False</td>\n      <td>True</td>\n    </tr>\n    <tr>\n      <th>1</th>\n      <td>False</td>\n      <td>True</td>\n    </tr>\n    <tr>\n      <th>2</th>\n      <td>False</td>\n      <td>True</td>\n    </tr>\n    <tr>\n      <th>3</th>\n      <td>False</td>\n      <td>True</td>\n    </tr>\n    <tr>\n      <th>4</th>\n      <td>False</td>\n      <td>True</td>\n    </tr>\n  </tbody>\n</table>\n</div>"
          },
          "metadata": {}
        }
      ],
      "execution_count": 131
    },
    {
      "cell_type": "code",
      "source": "# Change the column names for clarity:\ndummy_variable_1.rename(columns={'gas':'fuel-type-gas', 'diesel':'fuel-type-diesel'}, inplace=True)\ndummy_variable_1.head()",
      "metadata": {
        "trusted": true
      },
      "outputs": [
        {
          "execution_count": 132,
          "output_type": "execute_result",
          "data": {
            "text/plain": "   fuel-type-diesel  fuel-type-gas\n0             False           True\n1             False           True\n2             False           True\n3             False           True\n4             False           True",
            "text/html": "<div>\n<style scoped>\n    .dataframe tbody tr th:only-of-type {\n        vertical-align: middle;\n    }\n\n    .dataframe tbody tr th {\n        vertical-align: top;\n    }\n\n    .dataframe thead th {\n        text-align: right;\n    }\n</style>\n<table border=\"1\" class=\"dataframe\">\n  <thead>\n    <tr style=\"text-align: right;\">\n      <th></th>\n      <th>fuel-type-diesel</th>\n      <th>fuel-type-gas</th>\n    </tr>\n  </thead>\n  <tbody>\n    <tr>\n      <th>0</th>\n      <td>False</td>\n      <td>True</td>\n    </tr>\n    <tr>\n      <th>1</th>\n      <td>False</td>\n      <td>True</td>\n    </tr>\n    <tr>\n      <th>2</th>\n      <td>False</td>\n      <td>True</td>\n    </tr>\n    <tr>\n      <th>3</th>\n      <td>False</td>\n      <td>True</td>\n    </tr>\n    <tr>\n      <th>4</th>\n      <td>False</td>\n      <td>True</td>\n    </tr>\n  </tbody>\n</table>\n</div>"
          },
          "metadata": {}
        }
      ],
      "execution_count": 132
    },
    {
      "cell_type": "code",
      "source": "# merge data frame \"df\" and \"dummy_variable_1\" \ndf = pd.concat([df, dummy_variable_1], axis=1)\n\n# drop original column \"fuel-type\" from \"df\"\ndf.drop(\"fuel-type\", axis = 1, inplace=True)",
      "metadata": {
        "trusted": true
      },
      "outputs": [],
      "execution_count": 133
    },
    {
      "cell_type": "code",
      "source": "df.head()",
      "metadata": {
        "trusted": true
      },
      "outputs": [
        {
          "execution_count": 134,
          "output_type": "execute_result",
          "data": {
            "text/plain": "   symboling  normalized-losses         make aspiration num-of-doors  \\\n0          3                122  alfa-romero        std          two   \n1          3                122  alfa-romero        std          two   \n2          1                122  alfa-romero        std          two   \n3          2                164         audi        std         four   \n4          2                164         audi        std         four   \n\n    body-style drive-wheels engine-location  wheel-base    length  ...  \\\n0  convertible          rwd           front        88.6  0.811148  ...   \n1  convertible          rwd           front        88.6  0.811148  ...   \n2    hatchback          rwd           front        94.5  0.822681  ...   \n3        sedan          fwd           front        99.8  0.848630  ...   \n4        sedan          4wd           front        99.4  0.848630  ...   \n\n   compression-ratio  horsepower  peak-rpm city-mpg highway-mpg    price  \\\n0                9.0         111    5000.0       21    8.703704  13495.0   \n1                9.0         111    5000.0       21    8.703704  16500.0   \n2                9.0         154    5000.0       19    9.038462  16500.0   \n3               10.0         102    5500.0       24    7.833333  13950.0   \n4                8.0         115    5500.0       18   10.681818  17450.0   \n\n  city-L/100km  horsepower-binned  fuel-type-diesel  fuel-type-gas  \n0    11.190476             Medium             False           True  \n1    11.190476             Medium             False           True  \n2    12.368421             Medium             False           True  \n3     9.791667             Medium             False           True  \n4    13.055556             Medium             False           True  \n\n[5 rows x 29 columns]",
            "text/html": "<div>\n<style scoped>\n    .dataframe tbody tr th:only-of-type {\n        vertical-align: middle;\n    }\n\n    .dataframe tbody tr th {\n        vertical-align: top;\n    }\n\n    .dataframe thead th {\n        text-align: right;\n    }\n</style>\n<table border=\"1\" class=\"dataframe\">\n  <thead>\n    <tr style=\"text-align: right;\">\n      <th></th>\n      <th>symboling</th>\n      <th>normalized-losses</th>\n      <th>make</th>\n      <th>aspiration</th>\n      <th>num-of-doors</th>\n      <th>body-style</th>\n      <th>drive-wheels</th>\n      <th>engine-location</th>\n      <th>wheel-base</th>\n      <th>length</th>\n      <th>...</th>\n      <th>compression-ratio</th>\n      <th>horsepower</th>\n      <th>peak-rpm</th>\n      <th>city-mpg</th>\n      <th>highway-mpg</th>\n      <th>price</th>\n      <th>city-L/100km</th>\n      <th>horsepower-binned</th>\n      <th>fuel-type-diesel</th>\n      <th>fuel-type-gas</th>\n    </tr>\n  </thead>\n  <tbody>\n    <tr>\n      <th>0</th>\n      <td>3</td>\n      <td>122</td>\n      <td>alfa-romero</td>\n      <td>std</td>\n      <td>two</td>\n      <td>convertible</td>\n      <td>rwd</td>\n      <td>front</td>\n      <td>88.6</td>\n      <td>0.811148</td>\n      <td>...</td>\n      <td>9.0</td>\n      <td>111</td>\n      <td>5000.0</td>\n      <td>21</td>\n      <td>8.703704</td>\n      <td>13495.0</td>\n      <td>11.190476</td>\n      <td>Medium</td>\n      <td>False</td>\n      <td>True</td>\n    </tr>\n    <tr>\n      <th>1</th>\n      <td>3</td>\n      <td>122</td>\n      <td>alfa-romero</td>\n      <td>std</td>\n      <td>two</td>\n      <td>convertible</td>\n      <td>rwd</td>\n      <td>front</td>\n      <td>88.6</td>\n      <td>0.811148</td>\n      <td>...</td>\n      <td>9.0</td>\n      <td>111</td>\n      <td>5000.0</td>\n      <td>21</td>\n      <td>8.703704</td>\n      <td>16500.0</td>\n      <td>11.190476</td>\n      <td>Medium</td>\n      <td>False</td>\n      <td>True</td>\n    </tr>\n    <tr>\n      <th>2</th>\n      <td>1</td>\n      <td>122</td>\n      <td>alfa-romero</td>\n      <td>std</td>\n      <td>two</td>\n      <td>hatchback</td>\n      <td>rwd</td>\n      <td>front</td>\n      <td>94.5</td>\n      <td>0.822681</td>\n      <td>...</td>\n      <td>9.0</td>\n      <td>154</td>\n      <td>5000.0</td>\n      <td>19</td>\n      <td>9.038462</td>\n      <td>16500.0</td>\n      <td>12.368421</td>\n      <td>Medium</td>\n      <td>False</td>\n      <td>True</td>\n    </tr>\n    <tr>\n      <th>3</th>\n      <td>2</td>\n      <td>164</td>\n      <td>audi</td>\n      <td>std</td>\n      <td>four</td>\n      <td>sedan</td>\n      <td>fwd</td>\n      <td>front</td>\n      <td>99.8</td>\n      <td>0.848630</td>\n      <td>...</td>\n      <td>10.0</td>\n      <td>102</td>\n      <td>5500.0</td>\n      <td>24</td>\n      <td>7.833333</td>\n      <td>13950.0</td>\n      <td>9.791667</td>\n      <td>Medium</td>\n      <td>False</td>\n      <td>True</td>\n    </tr>\n    <tr>\n      <th>4</th>\n      <td>2</td>\n      <td>164</td>\n      <td>audi</td>\n      <td>std</td>\n      <td>four</td>\n      <td>sedan</td>\n      <td>4wd</td>\n      <td>front</td>\n      <td>99.4</td>\n      <td>0.848630</td>\n      <td>...</td>\n      <td>8.0</td>\n      <td>115</td>\n      <td>5500.0</td>\n      <td>18</td>\n      <td>10.681818</td>\n      <td>17450.0</td>\n      <td>13.055556</td>\n      <td>Medium</td>\n      <td>False</td>\n      <td>True</td>\n    </tr>\n  </tbody>\n</table>\n<p>5 rows × 29 columns</p>\n</div>"
          },
          "metadata": {}
        }
      ],
      "execution_count": 134
    },
    {
      "cell_type": "code",
      "source": "# get indicator variables of aspiration and assign it to data frame \"dummy_variable_2\"\ndummy_variable_2 = pd.get_dummies(df['aspiration'])\n\n# change column names for clarity\ndummy_variable_2.rename(columns={'std':'aspiration-std', 'turbo': 'aspiration-turbo'}, inplace=True)\n\n# show first 5 instances of data frame \"dummy_variable_1\"\ndummy_variable_2.head()",
      "metadata": {
        "trusted": true
      },
      "outputs": [
        {
          "execution_count": 135,
          "output_type": "execute_result",
          "data": {
            "text/plain": "   aspiration-std  aspiration-turbo\n0            True             False\n1            True             False\n2            True             False\n3            True             False\n4            True             False",
            "text/html": "<div>\n<style scoped>\n    .dataframe tbody tr th:only-of-type {\n        vertical-align: middle;\n    }\n\n    .dataframe tbody tr th {\n        vertical-align: top;\n    }\n\n    .dataframe thead th {\n        text-align: right;\n    }\n</style>\n<table border=\"1\" class=\"dataframe\">\n  <thead>\n    <tr style=\"text-align: right;\">\n      <th></th>\n      <th>aspiration-std</th>\n      <th>aspiration-turbo</th>\n    </tr>\n  </thead>\n  <tbody>\n    <tr>\n      <th>0</th>\n      <td>True</td>\n      <td>False</td>\n    </tr>\n    <tr>\n      <th>1</th>\n      <td>True</td>\n      <td>False</td>\n    </tr>\n    <tr>\n      <th>2</th>\n      <td>True</td>\n      <td>False</td>\n    </tr>\n    <tr>\n      <th>3</th>\n      <td>True</td>\n      <td>False</td>\n    </tr>\n    <tr>\n      <th>4</th>\n      <td>True</td>\n      <td>False</td>\n    </tr>\n  </tbody>\n</table>\n</div>"
          },
          "metadata": {}
        }
      ],
      "execution_count": 135
    },
    {
      "cell_type": "markdown",
      "source": "##### Merge the new dataframe to the original dataframe, then drop the column 'aspiration'.",
      "metadata": {}
    },
    {
      "cell_type": "code",
      "source": "df.to_csc('data_wrangling.csv')",
      "metadata": {
        "trusted": true
      },
      "outputs": [
        {
          "ename": "<class 'AttributeError'>",
          "evalue": "'DataFrame' object has no attribute 'to_csc'",
          "traceback": [
            "\u001b[0;31m---------------------------------------------------------------------------\u001b[0m",
            "\u001b[0;31mAttributeError\u001b[0m                            Traceback (most recent call last)",
            "\u001b[0;32m<ipython-input-137-a501acf6d4ef>\u001b[0m in \u001b[0;36m?\u001b[0;34m()\u001b[0m\n\u001b[0;32m----> 1\u001b[0;31m \u001b[0mdf\u001b[0m\u001b[0;34m.\u001b[0m\u001b[0mto_csc\u001b[0m\u001b[0;34m(\u001b[0m\u001b[0;34m'data_wrangling.csv'\u001b[0m\u001b[0;34m)\u001b[0m\u001b[0;34m\u001b[0m\u001b[0;34m\u001b[0m\u001b[0m\n\u001b[0m",
            "\u001b[0;32m/lib/python3.12/site-packages/pandas/core/generic.py\u001b[0m in \u001b[0;36m?\u001b[0;34m(self, name)\u001b[0m\n\u001b[1;32m   6289\u001b[0m             \u001b[0;32mand\u001b[0m \u001b[0mname\u001b[0m \u001b[0;32mnot\u001b[0m \u001b[0;32min\u001b[0m \u001b[0mself\u001b[0m\u001b[0;34m.\u001b[0m\u001b[0m_accessors\u001b[0m\u001b[0;34m\u001b[0m\u001b[0;34m\u001b[0m\u001b[0m\n\u001b[1;32m   6290\u001b[0m             \u001b[0;32mand\u001b[0m \u001b[0mself\u001b[0m\u001b[0;34m.\u001b[0m\u001b[0m_info_axis\u001b[0m\u001b[0;34m.\u001b[0m\u001b[0m_can_hold_identifiers_and_holds_name\u001b[0m\u001b[0;34m(\u001b[0m\u001b[0mname\u001b[0m\u001b[0;34m)\u001b[0m\u001b[0;34m\u001b[0m\u001b[0;34m\u001b[0m\u001b[0m\n\u001b[1;32m   6291\u001b[0m         \u001b[0;34m)\u001b[0m\u001b[0;34m:\u001b[0m\u001b[0;34m\u001b[0m\u001b[0;34m\u001b[0m\u001b[0m\n\u001b[1;32m   6292\u001b[0m             \u001b[0;32mreturn\u001b[0m \u001b[0mself\u001b[0m\u001b[0;34m[\u001b[0m\u001b[0mname\u001b[0m\u001b[0;34m]\u001b[0m\u001b[0;34m\u001b[0m\u001b[0;34m\u001b[0m\u001b[0m\n\u001b[0;32m-> 6293\u001b[0;31m         \u001b[0;32mreturn\u001b[0m \u001b[0mobject\u001b[0m\u001b[0;34m.\u001b[0m\u001b[0m__getattribute__\u001b[0m\u001b[0;34m(\u001b[0m\u001b[0mself\u001b[0m\u001b[0;34m,\u001b[0m \u001b[0mname\u001b[0m\u001b[0;34m)\u001b[0m\u001b[0;34m\u001b[0m\u001b[0;34m\u001b[0m\u001b[0m\n\u001b[0m",
            "\u001b[0;31mAttributeError\u001b[0m: 'DataFrame' object has no attribute 'to_csc'"
          ],
          "output_type": "error"
        }
      ],
      "execution_count": 137
    },
    {
      "cell_type": "code",
      "source": "",
      "metadata": {
        "trusted": true
      },
      "outputs": [],
      "execution_count": null
    },
    {
      "cell_type": "code",
      "source": "",
      "metadata": {
        "trusted": true
      },
      "outputs": [],
      "execution_count": null
    }
  ]
}